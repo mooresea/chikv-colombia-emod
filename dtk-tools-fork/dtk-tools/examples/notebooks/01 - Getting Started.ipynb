{
 "cells": [
  {
   "cell_type": "markdown",
   "metadata": {},
   "source": [
    "## Getting Started\n",
    "\n",
    "Welcome to this first workbook. Here we will set up the environment to make sure the following workbooks will work correctly. The plan for this workbook is to do the following:\n",
    "- Set up the dtk_setup.cfg file\n",
    "- Ensure the dtk import statements are working"
   ]
  },
  {
   "cell_type": "markdown",
   "metadata": {},
   "source": [
    "### Setting up the dtk_setup.cfg file\n",
    "\n",
    "This file contains all the paths and information needed by the `DTK` python package to execute your simulations locally or on `COMPS`. For the purpose of this demo, only the local simulations will be used.\n",
    "\n",
    "This file is located at `C:\\Python27\\Lib\\site-packages\\dtk\\dtk_setup.cfg`. You can edit it by hand, but we made things convenient and you can set the different paths directly in the following block. Make sure to execute it before continuing.\n"
   ]
  },
  {
   "cell_type": "code",
   "execution_count": null,
   "metadata": {
    "collapsed": false
   },
   "outputs": [],
   "source": [
    "import os\n",
    "import utils\n",
    "\n",
    "###\n",
    "# How many simulations will be executed\n",
    "# 10 is a good default value that will accommodate all the examples\n",
    "# and prevent you to run too many simulations with a misconfigured sweep\n",
    "max_sims = 10\n",
    "\n",
    "###\n",
    "# The simulations storage path\n",
    "# We default it to a /simulations folder contained at the same level as the workbooks\n",
    "current_path = os.path.dirname(os.path.abspath('__file__'))\n",
    "sim_root = os.path.join(current_path, 'simulations')\n",
    "\n",
    "###\n",
    "# The input files path\n",
    "# Necessary input files are provided with this package and are located in a Data_Files folder\n",
    "input_root = os.path.join(current_path, 'Data_Files')\n",
    "\n",
    "###\n",
    "# Binary path\n",
    "# Default to a bin/ folder\n",
    "bin_path = os.path.join(current_path, 'bin')\n",
    "\n",
    "###\n",
    "# Eradication.exe path\n",
    "# If you have installed the EMOD 2.0 quickstart bundle, the Eradication.exe should be at the default location.\n",
    "exe_path = os.path.join(os.getenv('USERPROFILE'),\"appdata\\\\local\\\\EMOD\\\\QuickStart\\\\v2.0.0\\\\Eradication.exe\")\n",
    "\n",
    "# Write the values to the config\n",
    "utils.write_dtk_config(max_sims, sim_root, input_root, bin_path, exe_path)"
   ]
  },
  {
   "cell_type": "markdown",
   "metadata": {},
   "source": [
    "### Making sure the dtk import works\n",
    "The `dtk` package contains all the modules necessary to run simulations. We need to make sure that your environment is properly configured and that you can properly import it."
   ]
  },
  {
   "cell_type": "code",
   "execution_count": null,
   "metadata": {
    "collapsed": false
   },
   "outputs": [],
   "source": [
    "import dtk\n",
    "utils.test_if_dtk_present()"
   ]
  }
 ],
 "metadata": {
  "kernelspec": {
   "display_name": "Python 2",
   "language": "python",
   "name": "python2"
  },
  "language_info": {
   "codemirror_mode": {
    "name": "ipython",
    "version": 2
   },
   "file_extension": ".py",
   "mimetype": "text/x-python",
   "name": "python",
   "nbconvert_exporter": "python",
   "pygments_lexer": "ipython2",
   "version": "2.7.10"
  }
 },
 "nbformat": 4,
 "nbformat_minor": 0
}
