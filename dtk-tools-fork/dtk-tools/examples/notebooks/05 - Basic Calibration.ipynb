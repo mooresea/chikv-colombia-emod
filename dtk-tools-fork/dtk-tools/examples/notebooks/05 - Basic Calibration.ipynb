{
 "cells": [
  {
   "cell_type": "markdown",
   "metadata": {},
   "source": [
    "## Basic calibration\n",
    "\n",
    "This workbook will demonstrate how to configure and run a calibration both localy and on COMPS.\n",
    "It assumes that you have a working dtk_setup.cfg file.\n",
    "\n",
    "The plan for this workbook is to do the following:\n",
    "- Set up calibration environment\n",
    "- Create custom sites\n",
    "- Run the calibration\n",
    "- Access the calibration results"
   ]
  },
  {
   "cell_type": "markdown",
   "metadata": {},
   "source": [
    "### Set up the calibration environment\n",
    "\n",
    "First, lets set our calibration folder and add mandatory files.\n"
   ]
  },
  {
   "cell_type": "code",
   "execution_count": null,
   "metadata": {},
   "outputs": [],
   "source": [
    "import os\n",
    "import utils\n",
    "\n",
    "###\n",
    "# The path of the folder that will contains the calibration parameters and outputs\n",
    "calibration_path = \"C:\\\\temp\\\\my-calibration\"\n",
    "\n",
    "###\n",
    "# Initial sampling range for the different parameters that we will be able to change.\n",
    "# This will be written to the initial_sampling_range.csv file in the calibration folder\n",
    "sampling_ranges = \"\"\"\n",
    "parameter                      ,max     ,min     ,type\n",
    "Antigen_Switch_Rate            ,1.00E-08,1.00E-10,log\n",
    "Falciparum_MSP_Variants        ,50      ,5       ,linear_int\n",
    "Nonspecific_Antigenicity_Factor,0.9     ,0.1     ,linear\n",
    "\"\"\"\n",
    "\n",
    "###\n",
    "# Parameter overlay\n",
    "# the calibration has a set of defaults that can be change through this overlay\n",
    "overlay = dict()\n",
    "# name of the calibration experiment\n",
    "overlay['expname'] = \"my_first_calibration\"\n",
    "# Empty to run locally for now\n",
    "overlay['run_location'] = \"\"\n",
    "# How many simulations to run initially\n",
    "overlay[\"num_initial_samples\"]= 20\n",
    "# How many simulations to run in subsequent iterations\n",
    "overlay[\"num_samples_per_iteration\"]= 10\n",
    "# The working directory\n",
    "overlay[\"working_dir\"]= calibration_path"
   ]
  },
  {
   "cell_type": "markdown",
   "metadata": {},
   "source": [
    ""
   ]
  },
  {
   "cell_type": "code",
   "execution_count": null,
   "metadata": {},
   "outputs": [],
   "source": [
    ""
   ]
  }
 ],
 "metadata": {
  "kernelspec": {
   "display_name": "Python 2",
   "language": "python",
   "name": "python2"
  },
  "language_info": {
   "codemirror_mode": {
    "name": "ipython",
    "version": 2.0
   },
   "file_extension": ".py",
   "mimetype": "text/x-python",
   "name": "python",
   "nbconvert_exporter": "python",
   "pygments_lexer": "ipython2",
   "version": "2.7.10"
  }
 },
 "nbformat": 4,
 "nbformat_minor": 0
}